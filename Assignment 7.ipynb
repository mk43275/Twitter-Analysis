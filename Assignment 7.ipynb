{
 "cells": [
  {
   "cell_type": "markdown",
   "id": "de4c8ea3",
   "metadata": {},
   "source": [
    "# Data Extraction and Collection for Top 200 Twitter Users Analysis"
   ]
  },
  {
   "cell_type": "markdown",
   "id": "44326b65",
   "metadata": {},
   "source": [
    "### **Preparation Step** \n",
    "\n",
    "Libraries that I used(Imported):\n",
    "\n",
    "**Pandas:** Library I used to deal with Tablular data and statistical operations. \n",
    "\n",
    "**NumPy/Scipy:** Library for statistical analysis\n",
    "\n",
    "**Matplotlib:** For plotting data "
   ]
  },
  {
   "cell_type": "code",
   "execution_count": 2,
   "id": "6b436600",
   "metadata": {},
   "outputs": [
    {
     "name": "stdout",
     "output_type": "stream",
     "text": [
      "Imported all libraries successfully...\n"
     ]
    }
   ],
   "source": [
    "try:\n",
    "    import pandas as pd\n",
    "    import numpy as np\n",
    "    import scipy\n",
    "    from matplotlib import pyplot as plt\n",
    "    print (\"Imported all libraries successfully...\")\n",
    "except:\n",
    "    import sys\n",
    "    !conda install --yes --prefix {sys.prefix} numpy\n",
    "    !conda install --yes --prefix {sys.prefix} pandas\n",
    "    !conda install --yes --prefix {sys.prefix} matplotlib\n",
    "    !conda install --yes --prefix {sys.prefix} scipy\n",
    "    print (\"Some libraries not found, installing...\")"
   ]
  },
  {
   "cell_type": "markdown",
   "id": "fe549375",
   "metadata": {},
   "source": [
    "*Everything is imported successfully!*"
   ]
  },
  {
   "cell_type": "markdown",
   "id": "045fdfb0",
   "metadata": {},
   "source": [
    "# ETL Process:"
   ]
  },
  {
   "cell_type": "markdown",
   "id": "637f54fd",
   "metadata": {},
   "source": [
    "**[Additional Transformations]**"
   ]
  },
  {
   "cell_type": "markdown",
   "id": "3f65583d",
   "metadata": {},
   "source": [
    "- Functions used to clean up the data:"
   ]
  },
  {
   "cell_type": "code",
   "execution_count": 3,
   "id": "01620db0",
   "metadata": {},
   "outputs": [],
   "source": [
    "def clean_string(s):\n",
    "    s = s.replace(\"\\n\\n\\n\", \"\\n\")\n",
    "    s = s.replace(\"\\n\\n\", \"\\n\")\n",
    "    s = s.replace(\"\\r\\n\", \"\\n\")\n",
    "    s = s.replace(\"\\n\", \",\")\n",
    "    s = s[1:]\n",
    "    s = s[:-14]\n",
    "    s = s.strip()\n",
    "    s = s[:-1]\n",
    "    return s"
   ]
  },
  {
   "cell_type": "markdown",
   "id": "a9fa6666",
   "metadata": {},
   "source": [
    "**clean strings** function is used to replace the messsy and spacings in the raw data."
   ]
  },
  {
   "cell_type": "code",
   "execution_count": 4,
   "id": "ce909648",
   "metadata": {},
   "outputs": [],
   "source": [
    "def remove_category(entries):\n",
    "    if len(entries) == 7:\n",
    "        entries.pop(2)\n",
    "    elif len(entries) == 8:\n",
    "        entries.pop(3)\n",
    "        entries.pop(2)\n",
    "    elif len(entries) == 9:\n",
    "        entries.pop(4)\n",
    "        entries.pop(3)\n",
    "        entries.pop(2)\n",
    "    entries.pop(5)    \n",
    "    return entries"
   ]
  },
  {
   "cell_type": "markdown",
   "id": "0dd6ea43",
   "metadata": {},
   "source": [
    "**remove category** function is used to remove the categories that were not used or coming up correctly in the processed data."
   ]
  },
  {
   "cell_type": "code",
   "execution_count": 5,
   "id": "f3f2214e",
   "metadata": {},
   "outputs": [],
   "source": [
    "def split_username(entries):\n",
    "    newList = []\n",
    "    newList = entries[1].strip().split(\" \");\n",
    "    if (len(newList) > 1):\n",
    "        entries[1] = newList[0]\n",
    "        entries.insert(2,newList[1])\n",
    "    else :\n",
    "        entries[1] = newList[0]\n",
    "        entries.insert(2,\"N/A\")\n",
    "    return entries"
   ]
  },
  {
   "cell_type": "markdown",
   "id": "34f0d8a1",
   "metadata": {},
   "source": [
    "**split username** function is used for the first name for \"Barack Obama,\" as there was an awkward spacing in it."
   ]
  },
  {
   "cell_type": "code",
   "execution_count": 6,
   "id": "549c7a48",
   "metadata": {},
   "outputs": [],
   "source": [
    "def number_replacement(entry):\n",
    "    if \"K\" in entry:\n",
    "        entry = entry[:-1]\n",
    "        entry = int(float(entry))\n",
    "    elif \"M\" in entry:\n",
    "        entry = entry[:-1]\n",
    "        entry = int(float(entry))\n",
    "    else:\n",
    "        entry = int(entry)\n",
    "    return entry"
   ]
  },
  {
   "cell_type": "markdown",
   "id": "86e39af2",
   "metadata": {},
   "source": [
    "**number replacement** function is used to remove the letters in the string for thousands(K) and millions(M) and is also converted into a float, then to an integer."
   ]
  },
  {
   "cell_type": "markdown",
   "id": "11703a17",
   "metadata": {},
   "source": [
    "## Read the webpage and parse it with BeautifulSoup API"
   ]
  },
  {
   "cell_type": "code",
   "execution_count": 7,
   "id": "19c287e4",
   "metadata": {
    "scrolled": true
   },
   "outputs": [
    {
     "name": "stdout",
     "output_type": "stream",
     "text": [
      "Webpage opened successfully!\n",
      "Webpage loaded and parsed successfully!\n"
     ]
    }
   ],
   "source": [
    "from bs4 import BeautifulSoup\n",
    "import requests\n",
    "open_webpage = requests.get(\"https://viralpitch.co/topinfluencers/twitter/top-200-twitter-influencers/\")\n",
    "print(\"Webpage opened successfully!\")\n",
    "twt_bs =  BeautifulSoup(open_webpage.content, \"html.parser\")\n",
    "print (\"Webpage loaded and parsed successfully!\")\n",
    "\n",
    "#extracted from Hands-On-Data-Curation-and-ETL"
   ]
  },
  {
   "cell_type": "markdown",
   "id": "22641b81",
   "metadata": {},
   "source": [
    "## Perform ETL \n",
    "\n",
    "- Extract \n",
    "\n",
    "- Transform\n",
    "\n",
    "- Load "
   ]
  },
  {
   "cell_type": "markdown",
   "id": "4886b9c4",
   "metadata": {},
   "source": [
    "## Extract:\n",
    "\n",
    "Extracting the data from the webpage (https://viralpitch.co/topinfluencers/twitter/top-200-twitter-influencers/)"
   ]
  },
  {
   "cell_type": "code",
   "execution_count": 8,
   "id": "a2c70f7e",
   "metadata": {},
   "outputs": [
    {
     "name": "stdout",
     "output_type": "stream",
     "text": [
      "['\\n1\\n BarackObama male\\n\\nNews & Politics\\nfamily\\n\\n\\n16.8K\\n133.3M\\n16.77K\\n0.2%\\r\\n                                                                            \\nFree Report\\n', '\\n2\\n elonmusk male\\n\\ntechnology\\n\\n\\n23.1K\\n129.6M\\n23.09K\\n0%\\r\\n                                                                            \\nFree Report\\n', '\\n3\\n justinbieber male\\n\\nentertainment\\n\\n\\n31.3K\\n113.4M\\n31.29K\\n0%\\r\\n                                                                            \\nFree Report\\n', '\\n4\\n Cristiano male\\n\\nHealth, Sports & Fitness\\n\\n\\n3.9K\\n107.5M\\n3.87K\\n0.2%\\r\\n                                                                            \\nFree Report\\n', '\\n5\\n realDonaldTrump male\\n\\nNews & Politics\\nFinance\\n\\n\\n59.1K\\n87.6M\\n59.14K\\n0.1%\\r\\n                                                                            \\nFree Report\\n', '\\n6\\n narendramodi male\\n\\nNews & Politics\\n\\n\\n35.6K\\n86.7M\\n35.64K\\n0%\\r\\n                                                                            \\nFree Report\\n', '\\n7\\n ArianaGrande female\\n\\nentertainment\\n\\n\\n47.2K\\n85.2M\\n47.16K\\n0.2%\\r\\n                                                                            \\nFree Report\\n', '\\n8\\n ladygaga female\\n\\nentertainment\\n\\n\\n9.9K\\n84.9M\\n9.93K\\n0.1%\\r\\n                                                                            \\nFree Report\\n', '\\n9\\n YouTube community\\n\\nentertainment\\n\\n\\n51.2K\\n78.7M\\n51.24K\\n0%\\r\\n                                                                            \\nFree Report\\n', '\\n10\\n TheEllenShow female\\n\\n\\n\\n23.7K\\n77.6M\\n1\\n0%\\r\\n                                                                            \\nFree Report\\n', '\\n11\\n KimKardashian female\\n\\nFinance\\nentertainment\\n\\n\\n36.2K\\n75.1M\\n36.22K\\n0%\\r\\n                                                                            \\nFree Report\\n', '\\n12\\n NASA community\\n\\ntechnology\\n\\n\\n69.6K\\n71M\\n69.58K\\n0%\\r\\n                                                                            \\nFree Report\\n', '\\n13\\n selenagomez female\\n\\n\\n\\n5.4K\\n65.9M\\n1\\n0%\\r\\n                                                                            \\nFree Report\\n', '\\n14\\n Twitter community\\n\\nentertainment\\n\\n\\n15K\\n65.4M\\n15.05K\\n0%\\r\\n                                                                            \\nFree Report\\n', '\\n15\\n BillGates male\\n\\ntechnology\\n\\n\\n4.2K\\n61.9M\\n4.16K\\n0%\\r\\n                                                                            \\nFree Report\\n', '\\n16\\n CNN brand\\n\\nentertainment\\n\\n\\n398.4K\\n61.2M\\n398.45K\\n0%\\r\\n                                                                            \\nFree Report\\n', '\\n17\\n nytimes brand\\n\\nentertainment\\n\\n\\n500.4K\\n55M\\n500.36K\\n0%\\r\\n                                                                            \\nFree Report\\n', '\\n18\\n imVkohli male\\n\\nHealth, Sports & Fitness\\n\\n\\n2.8K\\n53.9M\\n2.79K\\n0.2%\\r\\n                                                                            \\nFree Report\\n', '\\n19\\n ddlovato female\\n\\nentertainment\\n\\n\\n17.8K\\n53.8M\\n17.80K\\n0%\\r\\n                                                                            \\nFree Report\\n', '\\n20\\n PMOIndia male\\n\\nNews & Politics\\n\\n\\n34K\\n52.5M\\n34.01K\\n0%\\r\\n                                                                            \\nFree Report\\n', '\\n21\\n BBCBreaking brand\\n\\nNews & Politics\\n\\n\\n38.8K\\n51.7M\\n38.84K\\n0%\\r\\n                                                                            \\nFree Report\\n', '\\n22\\n jimmyfallon male\\n\\n\\n\\n14.2K\\n51.3M\\n1\\n0%\\r\\n                                                                            \\nFree Report\\n', '\\n23\\n SrBachchan male\\n\\nentertainment\\n\\n\\n69.7K\\n48.4M\\n69.68K\\n0%\\r\\n                                                                            \\nFree Report\\n', '\\n24\\n BTS_twt\\n\\n\\n\\n12.9K\\n48.2M\\n12.93K\\n4%\\r\\n                                                                            \\nFree Report\\n', '\\n25\\n ChampionsLeague brand\\n\\nHealth, Sports & Fitness\\n\\n\\n87.2K\\n47.3M\\n87.19K\\n0%\\r\\n                                                                            \\nFree Report\\n', '\\n26\\n FCBarcelona brand\\n\\nHealth, Sports & Fitness\\n\\n\\n130.7K\\n46.5M\\n130.74K\\n0%\\r\\n                                                                            \\nFree Report\\n', '\\n27\\n akshaykumar male\\n\\nentertainment\\nHealth, Sports & Fitness\\n\\n\\n41.6K\\n45.7M\\n41.65K\\n0.1%\\r\\n                                                                            \\nFree Report\\n', '\\n28\\n espn brand\\n\\nHealth, Sports & Fitness\\n\\n\\n136.4K\\n45.2M\\n136.42K\\n0%\\r\\n                                                                            \\nFree Report\\n', '\\n29\\n BeingSalmanKhan male\\n\\nentertainment\\n\\n\\n43.2K\\n44.9M\\n43.20K\\n0.1%\\r\\n                                                                            \\nFree Report\\n', '\\n30\\n iamsrk male\\n\\nentertainment\\n\\n\\n58.8K\\n43.3M\\n58.84K\\n0.1%\\r\\n                                                                            \\nFree Report\\n', '\\n31\\n NBA brand\\n\\nHealth, Sports & Fitness\\n\\n\\n321.7K\\n42.4M\\n321.74K\\n0%\\r\\n                                                                            \\nFree Report\\n', '\\n32\\n KylieJenner female\\n\\nentertainment\\n\\n\\n14.3K\\n40.5M\\n14.29K\\n0.1%\\r\\n                                                                            \\nFree Report\\n', '\\n33\\n bts_bighit\\n\\n\\n\\n10.3K\\n40.4M\\n1\\n0%\\r\\n                                                                            \\nFree Report\\n', '\\n34\\n sachin_rt male\\n\\nHealth, Sports & Fitness\\n\\n\\n4.9K\\n38.5M\\n4.87K\\n0.1%\\r\\n                                                                            \\nFree Report\\n', '\\n35\\n JoeBiden male\\n\\nNews & Politics\\n\\n\\n8.9K\\n37.1M\\n8.95K\\n0.1%\\r\\n                                                                            \\nFree Report\\n', '\\n36\\n wizkhalifa male\\n\\nentertainment\\n\\n\\n51.1K\\n36.8M\\n51.14K\\n0%\\r\\n                                                                            \\nFree Report\\n', '\\n37\\n premierleague male\\n\\n\\n\\n143K\\n36.6M\\n1\\n0%\\r\\n                                                                            \\nFree Report\\n', '\\n38\\n ManUtd male\\n\\nHealth, Sports & Fitness\\n\\n\\n80.1K\\n35.1M\\n80.07K\\n0%\\r\\n                                                                            \\nFree Report\\n', '\\n39\\n LilTunechi male\\n\\nentertainment\\n\\n\\n2.6K\\n35.1M\\n2.55K\\n0%\\r\\n                                                                            \\nFree Report\\n', '\\n40\\n instagram male\\n\\n\\n\\n15.1K\\n33.9M\\n1\\n0%\\r\\n                                                                            \\nFree Report\\n', '\\n41\\n POTUS male\\n\\nNews & Politics\\n\\n\\n11K\\n33.4M\\n11.01K\\n0.1%\\r\\n                                                                            \\nFree Report\\n', '\\n42\\n NFL brand\\n\\nHealth, Sports & Fitness\\n\\n\\n252.6K\\n32.7M\\n252.65K\\n0%\\r\\n                                                                            \\nFree Report\\n', '\\n43\\n AmitShah male\\n\\nNews & Politics\\n\\n\\n19K\\n32.3M\\n19.05K\\n0%\\r\\n                                                                            \\nFree Report\\n', '\\n44\\n iHrithik male\\n\\nentertainment\\n\\n\\n6.1K\\n32.2M\\n6.12K\\n0.1%\\r\\n                                                                            \\nFree Report\\n', '\\n45\\n Pink female\\n\\nentertainment\\n\\n\\n8.4K\\n31.5M\\n8.40K\\n0%\\r\\n                                                                            \\nFree Report\\n', '\\n46\\n khloekardashian female\\n\\nentertainment\\nfashion\\n\\n\\n67.9K\\n30.6M\\n67.91K\\n0%\\r\\n                                                                            \\nFree Report\\n', '\\n47\\n POTUS male\\n\\n\\n\\n5.5K\\n29.7M\\n5.45K\\n0.2%\\r\\n                                                                            \\nFree Report\\n', '\\n48\\n SpaceX brand\\n\\ntechnology\\n\\n\\n6.6K\\n28.3M\\n6.58K\\n0.1%\\r\\n                                                                            \\nFree Report\\n', '\\n49\\n priyankachopra female\\n\\nentertainment\\n\\n\\n22.3K\\n27.9M\\n22.33K\\n0%\\r\\n                                                                            \\nFree Report\\n', '\\n50\\n NICKIMINAJ female\\n\\nentertainment\\n\\n\\n44.6K\\n27.7M\\n44.63K\\n0.3%\\r\\n                                                                            \\nFree Report\\n', '\\n51\\n deepikapadukone female\\n\\nentertainment\\n\\n\\n665\\n27.2M\\n665\\n0.1%\\r\\n                                                                            \\nFree Report\\n', '\\n52\\n Google male\\n\\n\\n\\n168.4K\\n27M\\n1\\n0%\\r\\n                                                                            \\nFree Report\\n', '\\n53\\n ArvindKejriwal male\\n\\nNews & Politics\\n\\n\\n34.4K\\n26.9M\\n34.37K\\n0%\\r\\n                                                                            \\nFree Report\\n', '\\n54\\n BIGHIT_MUSIC brand\\n\\nentertainment\\n\\n\\n8.9K\\n26.8M\\n8.91K\\n1.1%\\r\\n                                                                            \\nFree Report\\n', '\\n55\\n ShawnMendes male\\n\\n\\n\\n15.4K\\n26.7M\\n1\\n0%\\r\\n                                                                            \\nFree Report\\n', '\\n56\\n WhiteHouse brand\\n\\nNews & Politics\\n\\n\\n24.1K\\n26M\\n24.11K\\n0%\\r\\n                                                                            \\nFree Report\\n', '\\n57\\n Reuters\\n\\n\\n\\n872.2K\\n25.3M\\n1\\n0%\\r\\n                                                                            \\nFree Report\\n', '\\n58\\n arrahman male\\n\\nentertainment\\n\\n\\n6.9K\\n24.5M\\n6.92K\\n0%\\r\\n                                                                            \\nFree Report\\n', '\\n59\\n ChelseaFC brand\\n\\nHealth, Sports & Fitness\\n\\n\\n112.9K\\n24.1M\\n112.85K\\n0.1%\\r\\n                                                                            \\nFree Report\\n', '\\n60\\n danieltosh male\\n\\nentertainment\\n\\n\\n44\\n23.9M\\n44\\n0%\\r\\n                                                                            \\nFree Report\\n', '\\n61\\n coldplay brand\\n\\nentertainment\\n\\n\\n9.5K\\n23.7M\\n9.55K\\n0%\\r\\n                                                                            \\nFree Report\\n', '\\n62\\n AnushkaSharma female\\n\\nentertainment\\n\\n\\n4.7K\\n23.4M\\n4.71K\\n0.1%\\r\\n                                                                            \\nFree Report\\n', '\\n63\\n LFC brand\\n\\nHealth, Sports & Fitness\\n\\n\\n108K\\n23.4M\\n107.95K\\n0%\\r\\n                                                                            \\nFree Report\\n', '\\n64\\n virendersehwag male\\n\\nHealth, Sports & Fitness\\n\\n\\n12.4K\\n23.2M\\n12.39K\\n0.2%\\r\\n                                                                            \\nFree Report\\n', '\\n65\\n RahulGandhi male\\n\\nNews & Politics\\n\\n\\n6.8K\\n22.9M\\n6.75K\\n0.3%\\r\\n                                                                            \\nFree Report\\n', '\\n66\\n ImRo45 male\\n\\nHealth, Sports & Fitness\\n\\n\\n2.6K\\n21.5M\\n2.59K\\n0.2%\\r\\n                                                                            \\nFree Report\\n', '\\n67\\n aliaa08 female\\n\\n\\n\\n5.5K\\n21.5M\\n1\\n0%\\r\\n                                                                            \\nFree Report\\n', '\\n68\\n netflix brand\\n\\nentertainment\\n\\n\\n47.9K\\n21.5M\\n47.85K\\n0%\\r\\n                                                                            \\nFree Report\\n', '\\n69\\n rashtrapatibhvn male\\n\\nNews & Politics\\n\\n\\n12.3K\\n21.4M\\n12.28K\\n0%\\r\\n                                                                            \\nFree Report\\n', '\\n70\\n VancityReynolds male\\n\\nentertainment\\n\\n\\n3.5K\\n21.2M\\n3.48K\\n0.1%\\r\\n                                                                            \\nFree Report\\n', '\\n71\\n Arsenal brand\\n\\nHealth, Sports & Fitness\\n\\n\\n102.7K\\n21.1M\\n102.72K\\n0.1%\\r\\n                                                                            \\nFree Report\\n', '\\n72\\n SnoopDogg male\\n\\nentertainment\\n\\n\\n42.9K\\n21M\\n42.91K\\n0%\\r\\n                                                                            \\nFree Report\\n', '\\n73\\n Rubiu5\\n\\n\\n\\n25.8K\\n20.9M\\n25.84K\\n0.2%\\r\\n                                                                            \\nFree Report\\n', '\\n74\\n ImRaina male\\n\\nHealth, Sports & Fitness\\n\\n\\n7.8K\\n20.8M\\n7.83K\\n0.1%\\r\\n                                                                            \\nFree Report\\n', '\\n75\\n BCCI brand\\n\\nHealth, Sports & Fitness\\n\\n\\n824K\\n20.6M\\n823.96K\\n0%\\r\\n                                                                            \\nFree Report\\n', '\\n76\\n WSJ brand\\n\\nNews & Politics\\n\\n\\n399.1K\\n20.5M\\n399.10K\\n0%\\r\\n                                                                            \\nFree Report\\n', '\\n77\\n ricky_martin male\\n\\nentertainment\\n\\n\\n7.7K\\n20.2M\\n7.74K\\n0%\\r\\n                                                                            \\nFree Report\\n', '\\n78\\n AnupamPKher male\\n\\nentertainment\\n\\n\\n42.6K\\n20.2M\\n42.60K\\n0%\\r\\n                                                                            \\nFree Report\\n', '\\n79\\n KamalaHarris female\\n\\nNews & Politics\\n\\n\\n17K\\n20M\\n17.04K\\n0.1%\\r\\n                                                                            \\nFree Report\\n', '\\n80\\n davidguetta male\\n\\nentertainment\\n\\n\\n6.8K\\n20M\\n6.77K\\n0%\\r\\n                                                                            \\nFree Report\\n', '\\n81\\n BJP4India community\\n\\nNews & Politics\\n\\n\\n241K\\n20M\\n240.97K\\n0%\\r\\n                                                                            \\nFree Report\\n', '\\n82\\n KapilSharmaK9 male\\n\\nentertainment\\n\\n\\n11.4K\\n19.8M\\n11.36K\\n0%\\r\\n                                                                            \\nFree Report\\n', '\\n83\\n aajtak brand\\n\\nNews & Politics\\n\\n\\n771.9K\\n19.7M\\n771.87K\\n0%\\r\\n                                                                            \\nFree Report\\n', '\\n84\\n Benzema male\\n\\nHealth, Sports & Fitness\\n\\n\\n3.8K\\n19.4M\\n3.84K\\n0.1%\\r\\n                                                                            \\nFree Report\\n', '\\n85\\n Forbes brand\\n\\nNews & Politics\\n\\n\\n459.7K\\n18.8M\\n459.74K\\n0%\\r\\n                                                                            \\nFree Report\\n', '\\n86\\n ImranKhanPTI male\\n\\nNews & Politics\\nHealth, Sports & Fitness\\n\\n\\n8.5K\\n18.7M\\n8.51K\\n0.2%\\r\\n                                                                            \\nFree Report\\n', '\\n87\\n MrBeast\\n\\n\\n\\n6K\\n18.7M\\n6.03K\\n0.4%\\r\\n                                                                            \\nFree Report\\n', '\\n88\\n myogiadityanath male\\n\\n\\n\\n16.9K\\n18.6M\\n1\\n0%\\r\\n                                                                            \\nFree Report\\n', '\\n89\\n ICC community\\n\\nHealth, Sports & Fitness\\n\\n\\n111.8K\\n18.5M\\n111.76K\\n0%\\r\\n                                                                            \\nFree Report\\n', '\\n90\\n RobertDowneyJr male\\n\\nentertainment\\n\\n\\n0.9K\\n18M\\n0.93K\\n0.2%\\r\\n                                                                            \\nFree Report\\n', '\\n91\\n ABC male\\n\\nNews & Politics\\n\\n\\n407.9K\\n17.8M\\n407.91K\\n0%\\r\\n                                                                            \\nFree Report\\n', '\\n92\\n MTV brand\\n\\nentertainment\\n\\n\\n312.5K\\n17.8M\\n312.50K\\n0%\\r\\n                                                                            \\nFree Report\\n', '\\n93\\n ndtv brand\\n\\nNews & Politics\\n\\n\\n1.1M\\n17.7M\\n1.09M\\n0%\\r\\n                                                                            \\nFree Report\\n', '\\n94\\n karanjohar male\\n\\nentertainment\\n\\n\\n12.3K\\n17.3M\\n12.30K\\n0%\\r\\n                                                                            \\nFree Report\\n', '\\n95\\n Marvel male\\n\\n\\n\\n64.8K\\n17.3M\\n64.83K\\n0%\\r\\n                                                                            \\nFree Report\\n', '\\n96\\n TheRock male\\n\\nentertainment\\nHealth, Sports & Fitness\\n\\n\\n26.9K\\n17.1M\\n26.94K\\n0%\\r\\n                                                                            \\nFree Report\\n', '\\n97\\n FLOTUS female\\n\\nNews & Politics\\nentertainment\\n\\n\\n1.4K\\n16.4M\\n1.37K\\n0.2%\\r\\n                                                                            \\nFree Report\\n', '\\n98\\n realmadriden male\\n\\ngaming\\n\\n\\n60.8K\\n16.3M\\n60.85K\\n0%\\r\\n                                                                            \\nFree Report\\n', '\\n99\\n UN brand\\n\\nNews & Politics\\n\\n\\n89.4K\\n16.2M\\n89.42K\\n0%\\r\\n                                                                            \\nFree Report\\n', '\\n100\\n ajaydevgn male\\n\\nentertainment\\n\\n\\n3.8K\\n16.1M\\n3.85K\\n0.1%\\r\\n                                                                            \\nFree Report\\n', '\\n101\\n AP brand\\n\\nNews & Politics\\n\\n\\n344.3K\\n16.1M\\n344.28K\\n0%\\r\\n                                                                            \\nFree Report\\n', '\\n102\\n Asli_Jacqueline female\\n\\nentertainment\\nfashion\\n\\n\\n7.8K\\n15.9M\\n7.80K\\n0%\\r\\n                                                                            \\nFree Report\\n', '\\n103\\n juniorbachchan male\\n\\nentertainment\\n\\n\\n34K\\n15.5M\\n34.02K\\n0%\\r\\n                                                                            \\nFree Report\\n', '\\n104\\n FortniteGame brand\\n\\ngaming\\n\\n\\n16.3K\\n15.5M\\n16.28K\\n0.1%\\r\\n                                                                            \\nFree Report\\n', '\\n105\\n daddy_yankee male\\n\\n\\n\\n23.1K\\n15.5M\\n1\\n0%\\r\\n                                                                            \\nFree Report\\n', '\\n106\\n shahidkapoor male\\n\\nentertainment\\n\\n\\n8.1K\\n15.5M\\n8.08K\\n0%\\r\\n                                                                            \\nFree Report\\n', '\\n107\\n Diddy female\\n\\n\\n\\n421\\n15.4M\\n1\\n0%\\r\\n                                                                            \\nFree Report\\n', '\\n108\\n ManCity male\\n\\n\\n\\n154.3K\\n15.3M\\n154.34K\\n0%\\r\\n                                                                            \\nFree Report\\n', '\\n109\\n BBCNews brand\\n\\nNews & Politics\\n\\n\\n515.2K\\n15M\\n515.15K\\n0%\\r\\n                                                                            \\nFree Report\\n', '\\n110\\n kobebryant male\\n\\n\\n\\n1.9K\\n15M\\n1\\n0%\\r\\n                                                                            \\nFree Report\\n', '\\n111\\n SonuSood male\\n\\nentertainment\\n\\n\\n14.7K\\n14.9M\\n14.73K\\n0.1%\\r\\n                                                                            \\nFree Report\\n', '\\n112\\n TwitterSports brand\\n\\ngaming\\nHealth, Sports & Fitness\\n\\n\\n20K\\n14.8M\\n20.05K\\n0%\\r\\n                                                                            \\nFree Report\\n', '\\n113\\n RyanSeacrest male\\n\\nentertainment\\n\\n\\n18.8K\\n14.8M\\n18.79K\\n0%\\r\\n                                                                            \\nFree Report\\n', '\\n114\\n timesofindia brand\\n\\nNews & Politics\\n\\n\\n862.2K\\n14.7M\\n862.19K\\n0%\\r\\n                                                                            \\nFree Report\\n', '\\n115\\n ParineetiChopra\\n\\n\\n\\n8.9K\\n14.6M\\n1\\n0%\\r\\n                                                                            \\nFree Report\\n', '\\n116\\n arunjaitley male\\n\\nNews & Politics\\n\\n\\n3.9K\\n14.5M\\n3.94K\\n0.1%\\r\\n                                                                            \\nFree Report\\n', '\\n117\\n cnni brand\\n\\nNews & Politics\\n\\n\\n287K\\n14.5M\\n287.02K\\n0%\\r\\n                                                                            \\nFree Report\\n', '\\n118\\n ShraddhaKapoor female\\n\\nentertainment\\nfashion\\n\\n\\n5.7K\\n14.4M\\n5.73K\\n0.1%\\r\\n                                                                            \\nFree Report\\n', '\\n119\\n RanveerOfficial male\\n\\nentertainment\\n\\n\\n5.8K\\n14.3M\\n5.85K\\n0%\\r\\n                                                                            \\nFree Report\\n', '\\n120\\n BigSean male\\n\\nentertainment\\n\\n\\n21.2K\\n14.1M\\n21.25K\\n0%\\r\\n                                                                            \\nFree Report\\n', '\\n121\\n JohnCena male\\n\\nentertainment\\nHealth, Sports & Fitness\\n\\n\\n7.4K\\n14.1M\\n7.40K\\n0.3%\\r\\n                                                                            \\nFree Report\\n', '\\n122\\n nickjonas male\\n\\nentertainment\\n\\n\\n6.4K\\n14.1M\\n6.40K\\n0.1%\\r\\n                                                                            \\nFree Report\\n', '\\n123\\n BleacherReport\\n\\n\\n\\n163.4K\\n13.8M\\n163.43K\\n0.1%\\r\\n                                                                            \\nFree Report\\n', '\\n124\\n TwitterVideo brand\\n\\nentertainment\\n\\n\\n8.8K\\n13.8M\\n8.77K\\n0.1%\\r\\n                                                                            \\nFree Report\\n', '\\n125\\n johnlegend male\\n\\nentertainment\\n\\n\\n16.9K\\n13.7M\\n16.89K\\n0%\\r\\n                                                                            \\nFree Report\\n', '\\n126\\n weareoneEXO male\\n\\nentertainment\\n\\n\\n4.5K\\n13.6M\\n4.47K\\n1.2%\\r\\n                                                                            \\nFree Report\\n', '\\n127\\n CHANEL brand\\n\\nfashion\\n\\n\\n4.2K\\n13.6M\\n4.22K\\n0%\\r\\n                                                                            \\nFree Report\\n', '\\n128\\n AOC female\\n\\nNews & Politics\\n\\n\\n14.5K\\n13.5M\\n14.53K\\n0.2%\\r\\n                                                                            \\nFree Report\\n', '\\n129\\n AlMosahf\\n\\n\\n\\n580.8K\\n13.5M\\n580.83K\\n0%\\r\\n                                                                            \\nFree Report\\n', '\\n130\\n ABPNews brand\\n\\nNews & Politics\\n\\n\\n477.9K\\n13.3M\\n477.92K\\n0%\\r\\n                                                                            \\nFree Report\\n', '\\n131\\n urstrulyMahesh male\\n\\nentertainment\\n\\n\\n2.1K\\n13.2M\\n2.13K\\n0.5%\\r\\n                                                                            \\nFree Report\\n', '\\n132\\n sonamakapoor female\\n\\nentertainment\\nfashion\\n\\n\\n20.4K\\n13.2M\\n20.41K\\n0%\\r\\n                                                                            \\nFree Report\\n', '\\n133\\n Camila_Cabello female\\n\\nentertainment\\n\\n\\n14.2K\\n13M\\n14.23K\\n0.4%\\r\\n                                                                            \\nFree Report\\n', '\\n134\\n WWE community\\n\\nHealth, Sports & Fitness\\n\\n\\n321.7K\\n13M\\n321.66K\\n0%\\r\\n                                                                            \\nFree Report\\n', '\\n135\\n rogerfederer male\\n\\nHealth, Sports & Fitness\\n\\n\\n2.2K\\n12.9M\\n2.24K\\n0.3%\\r\\n                                                                            \\nFree Report\\n', '\\n136\\n KrisJenner female\\n\\nFinance\\n\\n\\n14.4K\\n12.7M\\n14.43K\\n0%\\r\\n                                                                            \\nFree Report\\n', '\\n137\\n smritiirani female\\n\\nNews & Politics\\n\\n\\n62.8K\\n12.7M\\n62.84K\\n0%\\r\\n                                                                            \\nFree Report\\n', '\\n138\\n GalatasaraySK male\\n\\n\\n\\n90.3K\\n12.6M\\n90.28K\\n0.1%\\r\\n                                                                            \\nFree Report\\n', '\\n139\\n SenSanders male\\n\\nNews & Politics\\n\\n\\n23.5K\\n12.5M\\n23.53K\\n0.1%\\r\\n                                                                            \\nFree Report\\n', '\\n140\\n FIFAWorldCup community\\n\\nHealth, Sports & Fitness\\n\\n\\n33.8K\\n12.4M\\n33.85K\\n0%\\r\\n                                                                            \\nFree Report\\n', '\\n141\\n TXT_members\\n\\n\\n\\n2.4K\\n12.4M\\n1\\n0%\\r\\n                                                                            \\nFree Report\\n', '\\n142\\n Varun_dvn male\\n\\nentertainment\\n\\n\\n10.5K\\n12.1M\\n10.48K\\n0%\\r\\n                                                                            \\nFree Report\\n', '\\n143\\n WHO male\\n\\n\\n\\n73.2K\\n12.1M\\n73.21K\\n0%\\r\\n                                                                            \\nFree Report\\n', '\\n144\\n enews\\n\\n\\n\\n311.9K\\n12M\\n311.89K\\n0%\\r\\n                                                                            \\nFree Report\\n', '\\n145\\n TheOnion fanpage\\n\\nentertainment\\n\\n\\n96.3K\\n11.9M\\n96.26K\\n0%\\r\\n                                                                            \\nFree Report\\n', '\\n146\\n harbhajan_singh male\\n\\nHealth, Sports & Fitness\\n\\n\\n10.7K\\n11.9M\\n10.72K\\n0%\\r\\n                                                                            \\nFree Report\\n', '\\n147\\n PiyushGoyal male\\n\\nNews & Politics\\n\\n\\n43K\\n11.7M\\n43.04K\\n0%\\r\\n                                                                            \\nFree Report\\n', '\\n148\\n TwitterMusic brand\\n\\nentertainment\\n\\n\\n20.5K\\n11.7M\\n20.53K\\n0.1%\\r\\n                                                                            \\nFree Report\\n', '\\n149\\n EuropaLeague male\\n\\n\\n\\n38.1K\\n11.5M\\n38.14K\\n0%\\r\\n                                                                            \\nFree Report\\n', '\\n150\\n SMTOWNGLOBAL male\\n\\n\\n\\n13.9K\\n11.5M\\n13.88K\\n0.4%\\r\\n                                                                            \\nFree Report\\n', '\\n151\\n Lakers male\\n\\n\\n\\n78.1K\\n11.4M\\n78.12K\\n0.1%\\r\\n                                                                            \\nFree Report\\n', '\\n152\\n VP male\\n\\n\\n\\n6.7K\\n11.4M\\n6.72K\\n0.3%\\r\\n                                                                            \\nFree Report\\n', '\\n153\\n Riteishd male\\n\\nentertainment\\n\\n\\n29.5K\\n11.4M\\n29.54K\\n0%\\r\\n                                                                            \\nFree Report\\n', '\\n154\\n rustyrockets male\\n\\nentertainment\\n\\n\\n17K\\n11.2M\\n17.04K\\n0%\\r\\n                                                                            \\nFree Report\\n', '\\n155\\n Starbucks brand\\n\\nfood\\n\\n\\n266.2K\\n11.1M\\n266.16K\\n0%\\r\\n                                                                            \\nFree Report\\n', '\\n156\\n HHShkMohd male\\n\\n\\n\\n7K\\n11.1M\\n7.04K\\n0.1%\\r\\n                                                                            \\nFree Report\\n', '\\n157\\n SimonCowell male\\n\\n\\n\\n1.9K\\n11M\\n1.88K\\n0.1%\\r\\n                                                                            \\nFree Report\\n', '\\n158\\n ashwinravi99 male\\n\\n\\n\\n6.1K\\n10.9M\\n6.05K\\n0.1%\\r\\n                                                                            \\nFree Report\\n', '\\n159\\n Swamy39 male\\n\\nNews & Politics\\n\\n\\n111.3K\\n10.9M\\n111.25K\\n0%\\r\\n                                                                            \\nFree Report\\n', '\\n160\\n guardian male\\n\\n\\n\\n809.3K\\n10.9M\\n809.34K\\n0%\\r\\n                                                                            \\nFree Report\\n', '\\n161\\n yousuck2020\\n\\n\\n\\n6.6K\\n10.8M\\n1\\n0%\\r\\n                                                                            \\nFree Report\\n', '\\n162\\n SkySportsPL male\\n\\n\\n\\n207.2K\\n10.8M\\n207.16K\\n0%\\r\\n                                                                            \\nFree Report\\n', '\\n163\\n realmadridarab male\\n\\n\\n\\n47.2K\\n10.7M\\n47.22K\\n0%\\r\\n                                                                            \\nFree Report\\n', '\\n164\\n TXT_bighit male\\n\\n\\n\\n3.9K\\n10.6M\\n3.93K\\n0.8%\\r\\n                                                                            \\nFree Report\\n', '\\n165\\n lemondefr male\\n\\n\\n\\n432.6K\\n10.6M\\n432.55K\\n0%\\r\\n                                                                            \\nFree Report\\n', '\\n166\\n IvankaTrump female\\n\\n\\n\\n18.2K\\n10.5M\\n18.22K\\n0.2%\\r\\n                                                                            \\nFree Report\\n', '\\n167\\n GiGiHadid male\\n\\n\\n\\n16.2K\\n10.5M\\n16.16K\\n0.5%\\r\\n                                                                            \\nFree Report\\n', '\\n168\\n dhanushkraja male\\n\\n\\n\\n8.5K\\n10.5M\\n1\\n0%\\r\\n                                                                            \\nFree Report\\n', '\\n169\\n NCTsmtown male\\n\\n\\n\\n7.2K\\n10.4M\\n7.24K\\n1.3%\\r\\n                                                                            \\nFree Report\\n', '\\n170\\n VP male\\n\\n\\n\\n9.4K\\n10.4M\\n9.38K\\n0.1%\\r\\n                                                                            \\nFree Report\\n', '\\n171\\n TimesNow brand\\n\\nNews & Politics\\n\\n\\n0.9M\\n10.3M\\n0.90M\\n0%\\r\\n                                                                            \\nFree Report\\n', '\\n172\\n AppleMusic brand\\n\\ntechnology\\n\\n\\n38.6K\\n10.3M\\n38.64K\\n0%\\r\\n                                                                            \\nFree Report\\n', '\\n173\\n TechCrunch brand\\n\\nNews & Politics\\n\\n\\n250.2K\\n10.3M\\n250.18K\\n0%\\r\\n                                                                            \\nFree Report\\n', '\\n174\\n DUALIPA female\\n\\n\\n\\n1.9K\\n10.3M\\n1.94K\\n0.7%\\r\\n                                                                            \\nFree Report\\n', '\\n175\\n Fenerbahce\\n\\n\\n\\n74K\\n10.3M\\n73.96K\\n0.3%\\r\\n                                                                            \\nFree Report\\n', '\\n176\\n SidMalhotra male\\n\\n\\n\\n4.6K\\n10.2M\\n4.62K\\n0%\\r\\n                                                                            \\nFree Report\\n', '\\n177\\n azizansari male\\n\\n\\n\\n7.6K\\n10.2M\\n7.58K\\n0%\\r\\n                                                                            \\nFree Report\\n', '\\n178\\n JoelOsteen male\\n\\n\\n\\n20.7K\\n10.1M\\n20.67K\\n0.1%\\r\\n                                                                            \\nFree Report\\n', '\\n179\\n BBCSport male\\n\\n\\n\\n539.2K\\n10.1M\\n1\\n0%\\r\\n                                                                            \\nFree Report\\n', '\\n180\\n Twitch community\\n\\ngaming\\n\\n\\n23.5K\\n9.9M\\n23.53K\\n0%\\r\\n                                                                            \\nFree Report\\n', '\\n181\\n joejonas male\\n\\n\\n\\n11.5K\\n9.9M\\n11.52K\\n0.1%\\r\\n                                                                            \\nFree Report\\n', '\\n182\\n muftimenk\\n\\n\\n\\n12.2K\\n9.8M\\n12.21K\\n0.3%\\r\\n                                                                            \\nFree Report\\n', '\\n183\\n davido\\n\\n\\n\\n52.3K\\n9.7M\\n1\\n0%\\r\\n                                                                            \\nFree Report\\n', '\\n184\\n Nike brand\\n\\nLifestyle\\nfashion\\n\\n\\n38.2K\\n9.7M\\n38.15K\\n0%\\r\\n                                                                            \\nFree Report\\n', '\\n185\\n DonaldJTrumpJr male\\n\\n\\n\\n45.7K\\n9.7M\\n45.69K\\n0.2%\\r\\n                                                                            \\nFree Report\\n', '\\n186\\n IGN male\\n\\n\\n\\n182.7K\\n9.6M\\n182.66K\\n0%\\r\\n                                                                            \\nFree Report\\n', '\\n187\\n Ubisoft male\\n\\n\\n\\n43.3K\\n9.6M\\n43.28K\\n0%\\r\\n                                                                            \\nFree Report\\n', '\\n188\\n lopezobrador_\\n\\n\\n\\n6.7K\\n9.6M\\n6.70K\\n0.1%\\r\\n                                                                            \\nFree Report\\n', '\\n189\\n EASPORTSFIFA female\\n\\n\\n\\n271.7K\\n9.5M\\n271.67K\\n0%\\r\\n                                                                            \\nFree Report\\n', '\\n190\\n DaniAlvesD2 male\\n\\n\\n\\n8.6K\\n9.4M\\n8.61K\\n0%\\r\\n                                                                            \\nFree Report\\n', '\\n191\\n KingSalman\\n\\n\\n\\n344\\n9.4M\\n344\\n2.2%\\r\\n                                                                            \\nFree Report\\n', '\\n192\\n ChennaiIPL community\\n\\nHealth, Sports & Fitness\\n\\n\\n44.5K\\n9.4M\\n44.52K\\n0.1%\\r\\n                                                                            \\nFree Report\\n', '\\n193\\n UNICEF male\\n\\n\\n\\n56.8K\\n9.3M\\n56.83K\\n0%\\r\\n                                                                            \\nFree Report\\n', '\\n194\\n MLB male\\n\\n\\n\\n201.2K\\n9.3M\\n201.24K\\n0%\\r\\n                                                                            \\nFree Report\\n', '\\n195\\n Discovery male\\n\\n\\n\\n54.6K\\n9.3M\\n54.61K\\n0%\\r\\n                                                                            \\nFree Report\\n', '\\n196\\n LouisVuitton male\\n\\n\\n\\n7.1K\\n9.3M\\n1\\n0%\\r\\n                                                                            \\nFree Report\\n', '\\n197\\n DjokerNole male\\n\\n\\n\\n4K\\n9.3M\\n4.03K\\n0.1%\\r\\n                                                                            \\nFree Report\\n', '\\n198\\n INCIndia brand\\n\\nNews & Politics\\n\\n\\n126.2K\\n9.3M\\n126.19K\\n0%\\r\\n                                                                            \\nFree Report\\n', '\\n199\\n Dior brand\\n\\nfashion\\n\\n\\n7.6K\\n9.2M\\n7.59K\\n0%\\r\\n                                                                            \\nFree Report\\n', '\\n200\\n Caradelevingne female\\n\\n\\n\\n7.5K\\n9.2M\\n7.53K\\n0%\\r\\n                                                                            \\nFree Report\\n']\n"
     ]
    }
   ],
   "source": [
    "mydivs = twt_bs.find_all(\"div\", {\"class\": \"top-channel-item flex-box\" })\n",
    "raw_data =[]\n",
    "for row in mydivs:\n",
    "    line = row.text\n",
    "    raw_data.append(line)\n",
    "print(raw_data)"
   ]
  },
  {
   "cell_type": "markdown",
   "id": "a4f79f64",
   "metadata": {},
   "source": [
    "## Transform:\n",
    "\n",
    "- Define a list of columns and store the column names in the list\n",
    "- Extract one row from raw data at a time, make a dictionary (key-value pair) out of it, where the keys are the column names and values are the entries\n",
    "- Convert the data into a dataframe (which is kind of a table object) so that we could do some cleaning and apply additional transformation operations"
   ]
  },
  {
   "cell_type": "code",
   "execution_count": 9,
   "id": "034dafa1",
   "metadata": {},
   "outputs": [
    {
     "name": "stdout",
     "output_type": "stream",
     "text": [
      "[{'rank': 1, 'twitterName': 'BarackObama', 'type': 'male', 'posts': 16, 'followers': 133, 'avg. likes': 16}, {'rank': 2, 'twitterName': 'elonmusk', 'type': 'male', 'posts': 23, 'followers': 129, 'avg. likes': 23}, {'rank': 3, 'twitterName': 'justinbieber', 'type': 'male', 'posts': 31, 'followers': 113, 'avg. likes': 31}, {'rank': 4, 'twitterName': 'Cristiano', 'type': 'male', 'posts': 3, 'followers': 107, 'avg. likes': 3}, {'rank': 5, 'twitterName': 'realDonaldTrump', 'type': 'male', 'posts': 59, 'followers': 87, 'avg. likes': 59}, {'rank': 6, 'twitterName': 'narendramodi', 'type': 'male', 'posts': 35, 'followers': 86, 'avg. likes': 35}, {'rank': 7, 'twitterName': 'ArianaGrande', 'type': 'female', 'posts': 47, 'followers': 85, 'avg. likes': 47}, {'rank': 8, 'twitterName': 'ladygaga', 'type': 'female', 'posts': 9, 'followers': 84, 'avg. likes': 9}, {'rank': 9, 'twitterName': 'YouTube', 'type': 'community', 'posts': 51, 'followers': 78, 'avg. likes': 51}, {'rank': 10, 'twitterName': 'TheEllenShow', 'type': 'female', 'posts': 23, 'followers': 77, 'avg. likes': 1}, {'rank': 11, 'twitterName': 'KimKardashian', 'type': 'female', 'posts': 36, 'followers': 75, 'avg. likes': 36}, {'rank': 12, 'twitterName': 'NASA', 'type': 'community', 'posts': 69, 'followers': 71, 'avg. likes': 69}, {'rank': 13, 'twitterName': 'selenagomez', 'type': 'female', 'posts': 5, 'followers': 65, 'avg. likes': 1}, {'rank': 14, 'twitterName': 'Twitter', 'type': 'community', 'posts': 15, 'followers': 65, 'avg. likes': 15}, {'rank': 15, 'twitterName': 'BillGates', 'type': 'male', 'posts': 4, 'followers': 61, 'avg. likes': 4}, {'rank': 16, 'twitterName': 'CNN', 'type': 'brand', 'posts': 398, 'followers': 61, 'avg. likes': 398}, {'rank': 17, 'twitterName': 'nytimes', 'type': 'brand', 'posts': 500, 'followers': 55, 'avg. likes': 500}, {'rank': 18, 'twitterName': 'imVkohli', 'type': 'male', 'posts': 2, 'followers': 53, 'avg. likes': 2}, {'rank': 19, 'twitterName': 'ddlovato', 'type': 'female', 'posts': 17, 'followers': 53, 'avg. likes': 17}, {'rank': 20, 'twitterName': 'PMOIndia', 'type': 'male', 'posts': 34, 'followers': 52, 'avg. likes': 34}, {'rank': 21, 'twitterName': 'BBCBreaking', 'type': 'brand', 'posts': 38, 'followers': 51, 'avg. likes': 38}, {'rank': 22, 'twitterName': 'jimmyfallon', 'type': 'male', 'posts': 14, 'followers': 51, 'avg. likes': 1}, {'rank': 23, 'twitterName': 'SrBachchan', 'type': 'male', 'posts': 69, 'followers': 48, 'avg. likes': 69}, {'rank': 24, 'twitterName': 'BTS_twt', 'type': 'N/A', 'posts': 12, 'followers': 48, 'avg. likes': 12}, {'rank': 25, 'twitterName': 'ChampionsLeague', 'type': 'brand', 'posts': 87, 'followers': 47, 'avg. likes': 87}, {'rank': 26, 'twitterName': 'FCBarcelona', 'type': 'brand', 'posts': 130, 'followers': 46, 'avg. likes': 130}, {'rank': 27, 'twitterName': 'akshaykumar', 'type': 'male', 'posts': 41, 'followers': 45, 'avg. likes': 41}, {'rank': 28, 'twitterName': 'espn', 'type': 'brand', 'posts': 136, 'followers': 45, 'avg. likes': 136}, {'rank': 29, 'twitterName': 'BeingSalmanKhan', 'type': 'male', 'posts': 43, 'followers': 44, 'avg. likes': 43}, {'rank': 30, 'twitterName': 'iamsrk', 'type': 'male', 'posts': 58, 'followers': 43, 'avg. likes': 58}, {'rank': 31, 'twitterName': 'NBA', 'type': 'brand', 'posts': 321, 'followers': 42, 'avg. likes': 321}, {'rank': 32, 'twitterName': 'KylieJenner', 'type': 'female', 'posts': 14, 'followers': 40, 'avg. likes': 14}, {'rank': 33, 'twitterName': 'bts_bighit', 'type': 'N/A', 'posts': 10, 'followers': 40, 'avg. likes': 1}, {'rank': 34, 'twitterName': 'sachin_rt', 'type': 'male', 'posts': 4, 'followers': 38, 'avg. likes': 4}, {'rank': 35, 'twitterName': 'JoeBiden', 'type': 'male', 'posts': 8, 'followers': 37, 'avg. likes': 8}, {'rank': 36, 'twitterName': 'wizkhalifa', 'type': 'male', 'posts': 51, 'followers': 36, 'avg. likes': 51}, {'rank': 37, 'twitterName': 'premierleague', 'type': 'male', 'posts': 143, 'followers': 36, 'avg. likes': 1}, {'rank': 38, 'twitterName': 'ManUtd', 'type': 'male', 'posts': 80, 'followers': 35, 'avg. likes': 80}, {'rank': 39, 'twitterName': 'LilTunechi', 'type': 'male', 'posts': 2, 'followers': 35, 'avg. likes': 2}, {'rank': 40, 'twitterName': 'instagram', 'type': 'male', 'posts': 15, 'followers': 33, 'avg. likes': 1}, {'rank': 41, 'twitterName': 'POTUS', 'type': 'male', 'posts': 11, 'followers': 33, 'avg. likes': 11}, {'rank': 42, 'twitterName': 'NFL', 'type': 'brand', 'posts': 252, 'followers': 32, 'avg. likes': 252}, {'rank': 43, 'twitterName': 'AmitShah', 'type': 'male', 'posts': 19, 'followers': 32, 'avg. likes': 19}, {'rank': 44, 'twitterName': 'iHrithik', 'type': 'male', 'posts': 6, 'followers': 32, 'avg. likes': 6}, {'rank': 45, 'twitterName': 'Pink', 'type': 'female', 'posts': 8, 'followers': 31, 'avg. likes': 8}, {'rank': 46, 'twitterName': 'khloekardashian', 'type': 'female', 'posts': 67, 'followers': 30, 'avg. likes': 67}, {'rank': 47, 'twitterName': 'POTUS', 'type': 'male', 'posts': 5, 'followers': 29, 'avg. likes': 5}, {'rank': 48, 'twitterName': 'SpaceX', 'type': 'brand', 'posts': 6, 'followers': 28, 'avg. likes': 6}, {'rank': 49, 'twitterName': 'priyankachopra', 'type': 'female', 'posts': 22, 'followers': 27, 'avg. likes': 22}, {'rank': 50, 'twitterName': 'NICKIMINAJ', 'type': 'female', 'posts': 44, 'followers': 27, 'avg. likes': 44}, {'rank': 51, 'twitterName': 'deepikapadukone', 'type': 'female', 'posts': 665, 'followers': 27, 'avg. likes': 665}, {'rank': 52, 'twitterName': 'Google', 'type': 'male', 'posts': 168, 'followers': 27, 'avg. likes': 1}, {'rank': 53, 'twitterName': 'ArvindKejriwal', 'type': 'male', 'posts': 34, 'followers': 26, 'avg. likes': 34}, {'rank': 54, 'twitterName': 'BIGHIT_MUSIC', 'type': 'brand', 'posts': 8, 'followers': 26, 'avg. likes': 8}, {'rank': 55, 'twitterName': 'ShawnMendes', 'type': 'male', 'posts': 15, 'followers': 26, 'avg. likes': 1}, {'rank': 56, 'twitterName': 'WhiteHouse', 'type': 'brand', 'posts': 24, 'followers': 26, 'avg. likes': 24}, {'rank': 57, 'twitterName': 'Reuters', 'type': 'N/A', 'posts': 872, 'followers': 25, 'avg. likes': 1}, {'rank': 58, 'twitterName': 'arrahman', 'type': 'male', 'posts': 6, 'followers': 24, 'avg. likes': 6}, {'rank': 59, 'twitterName': 'ChelseaFC', 'type': 'brand', 'posts': 112, 'followers': 24, 'avg. likes': 112}, {'rank': 60, 'twitterName': 'danieltosh', 'type': 'male', 'posts': 44, 'followers': 23, 'avg. likes': 44}, {'rank': 61, 'twitterName': 'coldplay', 'type': 'brand', 'posts': 9, 'followers': 23, 'avg. likes': 9}, {'rank': 62, 'twitterName': 'AnushkaSharma', 'type': 'female', 'posts': 4, 'followers': 23, 'avg. likes': 4}, {'rank': 63, 'twitterName': 'LFC', 'type': 'brand', 'posts': 108, 'followers': 23, 'avg. likes': 107}, {'rank': 64, 'twitterName': 'virendersehwag', 'type': 'male', 'posts': 12, 'followers': 23, 'avg. likes': 12}, {'rank': 65, 'twitterName': 'RahulGandhi', 'type': 'male', 'posts': 6, 'followers': 22, 'avg. likes': 6}, {'rank': 66, 'twitterName': 'ImRo45', 'type': 'male', 'posts': 2, 'followers': 21, 'avg. likes': 2}, {'rank': 67, 'twitterName': 'aliaa08', 'type': 'female', 'posts': 5, 'followers': 21, 'avg. likes': 1}, {'rank': 68, 'twitterName': 'netflix', 'type': 'brand', 'posts': 47, 'followers': 21, 'avg. likes': 47}, {'rank': 69, 'twitterName': 'rashtrapatibhvn', 'type': 'male', 'posts': 12, 'followers': 21, 'avg. likes': 12}, {'rank': 70, 'twitterName': 'VancityReynolds', 'type': 'male', 'posts': 3, 'followers': 21, 'avg. likes': 3}, {'rank': 71, 'twitterName': 'Arsenal', 'type': 'brand', 'posts': 102, 'followers': 21, 'avg. likes': 102}, {'rank': 72, 'twitterName': 'SnoopDogg', 'type': 'male', 'posts': 42, 'followers': 21, 'avg. likes': 42}, {'rank': 73, 'twitterName': 'Rubiu5', 'type': 'N/A', 'posts': 25, 'followers': 20, 'avg. likes': 25}, {'rank': 74, 'twitterName': 'ImRaina', 'type': 'male', 'posts': 7, 'followers': 20, 'avg. likes': 7}, {'rank': 75, 'twitterName': 'BCCI', 'type': 'brand', 'posts': 824, 'followers': 20, 'avg. likes': 823}, {'rank': 76, 'twitterName': 'WSJ', 'type': 'brand', 'posts': 399, 'followers': 20, 'avg. likes': 399}, {'rank': 77, 'twitterName': 'ricky_martin', 'type': 'male', 'posts': 7, 'followers': 20, 'avg. likes': 7}, {'rank': 78, 'twitterName': 'AnupamPKher', 'type': 'male', 'posts': 42, 'followers': 20, 'avg. likes': 42}, {'rank': 79, 'twitterName': 'KamalaHarris', 'type': 'female', 'posts': 17, 'followers': 20, 'avg. likes': 17}, {'rank': 80, 'twitterName': 'davidguetta', 'type': 'male', 'posts': 6, 'followers': 20, 'avg. likes': 6}, {'rank': 81, 'twitterName': 'BJP4India', 'type': 'community', 'posts': 241, 'followers': 20, 'avg. likes': 240}, {'rank': 82, 'twitterName': 'KapilSharmaK9', 'type': 'male', 'posts': 11, 'followers': 19, 'avg. likes': 11}, {'rank': 83, 'twitterName': 'aajtak', 'type': 'brand', 'posts': 771, 'followers': 19, 'avg. likes': 771}, {'rank': 84, 'twitterName': 'Benzema', 'type': 'male', 'posts': 3, 'followers': 19, 'avg. likes': 3}, {'rank': 85, 'twitterName': 'Forbes', 'type': 'brand', 'posts': 459, 'followers': 18, 'avg. likes': 459}, {'rank': 86, 'twitterName': 'ImranKhanPTI', 'type': 'male', 'posts': 8, 'followers': 18, 'avg. likes': 8}, {'rank': 87, 'twitterName': 'MrBeast', 'type': 'N/A', 'posts': 6, 'followers': 18, 'avg. likes': 6}, {'rank': 88, 'twitterName': 'myogiadityanath', 'type': 'male', 'posts': 16, 'followers': 18, 'avg. likes': 1}, {'rank': 89, 'twitterName': 'ICC', 'type': 'community', 'posts': 111, 'followers': 18, 'avg. likes': 111}, {'rank': 90, 'twitterName': 'RobertDowneyJr', 'type': 'male', 'posts': 0, 'followers': 18, 'avg. likes': 0}, {'rank': 91, 'twitterName': 'ABC', 'type': 'male', 'posts': 407, 'followers': 17, 'avg. likes': 407}, {'rank': 92, 'twitterName': 'MTV', 'type': 'brand', 'posts': 312, 'followers': 17, 'avg. likes': 312}, {'rank': 93, 'twitterName': 'ndtv', 'type': 'brand', 'posts': 1, 'followers': 17, 'avg. likes': 1}, {'rank': 94, 'twitterName': 'karanjohar', 'type': 'male', 'posts': 12, 'followers': 17, 'avg. likes': 12}, {'rank': 95, 'twitterName': 'Marvel', 'type': 'male', 'posts': 64, 'followers': 17, 'avg. likes': 64}, {'rank': 96, 'twitterName': 'TheRock', 'type': 'male', 'posts': 26, 'followers': 17, 'avg. likes': 26}, {'rank': 97, 'twitterName': 'FLOTUS', 'type': 'female', 'posts': 1, 'followers': 16, 'avg. likes': 1}, {'rank': 98, 'twitterName': 'realmadriden', 'type': 'male', 'posts': 60, 'followers': 16, 'avg. likes': 60}, {'rank': 99, 'twitterName': 'UN', 'type': 'brand', 'posts': 89, 'followers': 16, 'avg. likes': 89}, {'rank': 100, 'twitterName': 'ajaydevgn', 'type': 'male', 'posts': 3, 'followers': 16, 'avg. likes': 3}, {'rank': 101, 'twitterName': 'AP', 'type': 'brand', 'posts': 344, 'followers': 16, 'avg. likes': 344}, {'rank': 102, 'twitterName': 'Asli_Jacqueline', 'type': 'female', 'posts': 7, 'followers': 15, 'avg. likes': 7}, {'rank': 103, 'twitterName': 'juniorbachchan', 'type': 'male', 'posts': 34, 'followers': 15, 'avg. likes': 34}, {'rank': 104, 'twitterName': 'FortniteGame', 'type': 'brand', 'posts': 16, 'followers': 15, 'avg. likes': 16}, {'rank': 105, 'twitterName': 'daddy_yankee', 'type': 'male', 'posts': 23, 'followers': 15, 'avg. likes': 1}, {'rank': 106, 'twitterName': 'shahidkapoor', 'type': 'male', 'posts': 8, 'followers': 15, 'avg. likes': 8}, {'rank': 107, 'twitterName': 'Diddy', 'type': 'female', 'posts': 421, 'followers': 15, 'avg. likes': 1}, {'rank': 108, 'twitterName': 'ManCity', 'type': 'male', 'posts': 154, 'followers': 15, 'avg. likes': 154}, {'rank': 109, 'twitterName': 'BBCNews', 'type': 'brand', 'posts': 515, 'followers': 15, 'avg. likes': 515}, {'rank': 110, 'twitterName': 'kobebryant', 'type': 'male', 'posts': 1, 'followers': 15, 'avg. likes': 1}, {'rank': 111, 'twitterName': 'SonuSood', 'type': 'male', 'posts': 14, 'followers': 14, 'avg. likes': 14}, {'rank': 112, 'twitterName': 'TwitterSports', 'type': 'brand', 'posts': 20, 'followers': 14, 'avg. likes': 20}, {'rank': 113, 'twitterName': 'RyanSeacrest', 'type': 'male', 'posts': 18, 'followers': 14, 'avg. likes': 18}, {'rank': 114, 'twitterName': 'timesofindia', 'type': 'brand', 'posts': 862, 'followers': 14, 'avg. likes': 862}, {'rank': 115, 'twitterName': 'ParineetiChopra', 'type': 'N/A', 'posts': 8, 'followers': 14, 'avg. likes': 1}, {'rank': 116, 'twitterName': 'arunjaitley', 'type': 'male', 'posts': 3, 'followers': 14, 'avg. likes': 3}, {'rank': 117, 'twitterName': 'cnni', 'type': 'brand', 'posts': 287, 'followers': 14, 'avg. likes': 287}, {'rank': 118, 'twitterName': 'ShraddhaKapoor', 'type': 'female', 'posts': 5, 'followers': 14, 'avg. likes': 5}, {'rank': 119, 'twitterName': 'RanveerOfficial', 'type': 'male', 'posts': 5, 'followers': 14, 'avg. likes': 5}, {'rank': 120, 'twitterName': 'BigSean', 'type': 'male', 'posts': 21, 'followers': 14, 'avg. likes': 21}, {'rank': 121, 'twitterName': 'JohnCena', 'type': 'male', 'posts': 7, 'followers': 14, 'avg. likes': 7}, {'rank': 122, 'twitterName': 'nickjonas', 'type': 'male', 'posts': 6, 'followers': 14, 'avg. likes': 6}, {'rank': 123, 'twitterName': 'BleacherReport', 'type': 'N/A', 'posts': 163, 'followers': 13, 'avg. likes': 163}, {'rank': 124, 'twitterName': 'TwitterVideo', 'type': 'brand', 'posts': 8, 'followers': 13, 'avg. likes': 8}, {'rank': 125, 'twitterName': 'johnlegend', 'type': 'male', 'posts': 16, 'followers': 13, 'avg. likes': 16}, {'rank': 126, 'twitterName': 'weareoneEXO', 'type': 'male', 'posts': 4, 'followers': 13, 'avg. likes': 4}, {'rank': 127, 'twitterName': 'CHANEL', 'type': 'brand', 'posts': 4, 'followers': 13, 'avg. likes': 4}, {'rank': 128, 'twitterName': 'AOC', 'type': 'female', 'posts': 14, 'followers': 13, 'avg. likes': 14}, {'rank': 129, 'twitterName': 'AlMosahf', 'type': 'N/A', 'posts': 580, 'followers': 13, 'avg. likes': 580}, {'rank': 130, 'twitterName': 'ABPNews', 'type': 'brand', 'posts': 477, 'followers': 13, 'avg. likes': 477}, {'rank': 131, 'twitterName': 'urstrulyMahesh', 'type': 'male', 'posts': 2, 'followers': 13, 'avg. likes': 2}, {'rank': 132, 'twitterName': 'sonamakapoor', 'type': 'female', 'posts': 20, 'followers': 13, 'avg. likes': 20}, {'rank': 133, 'twitterName': 'Camila_Cabello', 'type': 'female', 'posts': 14, 'followers': 13, 'avg. likes': 14}, {'rank': 134, 'twitterName': 'WWE', 'type': 'community', 'posts': 321, 'followers': 13, 'avg. likes': 321}, {'rank': 135, 'twitterName': 'rogerfederer', 'type': 'male', 'posts': 2, 'followers': 12, 'avg. likes': 2}, {'rank': 136, 'twitterName': 'KrisJenner', 'type': 'female', 'posts': 14, 'followers': 12, 'avg. likes': 14}, {'rank': 137, 'twitterName': 'smritiirani', 'type': 'female', 'posts': 62, 'followers': 12, 'avg. likes': 62}, {'rank': 138, 'twitterName': 'GalatasaraySK', 'type': 'male', 'posts': 90, 'followers': 12, 'avg. likes': 90}, {'rank': 139, 'twitterName': 'SenSanders', 'type': 'male', 'posts': 23, 'followers': 12, 'avg. likes': 23}, {'rank': 140, 'twitterName': 'FIFAWorldCup', 'type': 'community', 'posts': 33, 'followers': 12, 'avg. likes': 33}, {'rank': 141, 'twitterName': 'TXT_members', 'type': 'N/A', 'posts': 2, 'followers': 12, 'avg. likes': 1}, {'rank': 142, 'twitterName': 'Varun_dvn', 'type': 'male', 'posts': 10, 'followers': 12, 'avg. likes': 10}, {'rank': 143, 'twitterName': 'WHO', 'type': 'male', 'posts': 73, 'followers': 12, 'avg. likes': 73}, {'rank': 144, 'twitterName': 'enews', 'type': 'N/A', 'posts': 311, 'followers': 12, 'avg. likes': 311}, {'rank': 145, 'twitterName': 'TheOnion', 'type': 'fanpage', 'posts': 96, 'followers': 11, 'avg. likes': 96}, {'rank': 146, 'twitterName': 'harbhajan_singh', 'type': 'male', 'posts': 10, 'followers': 11, 'avg. likes': 10}, {'rank': 147, 'twitterName': 'PiyushGoyal', 'type': 'male', 'posts': 43, 'followers': 11, 'avg. likes': 43}, {'rank': 148, 'twitterName': 'TwitterMusic', 'type': 'brand', 'posts': 20, 'followers': 11, 'avg. likes': 20}, {'rank': 149, 'twitterName': 'EuropaLeague', 'type': 'male', 'posts': 38, 'followers': 11, 'avg. likes': 38}, {'rank': 150, 'twitterName': 'SMTOWNGLOBAL', 'type': 'male', 'posts': 13, 'followers': 11, 'avg. likes': 13}, {'rank': 151, 'twitterName': 'Lakers', 'type': 'male', 'posts': 78, 'followers': 11, 'avg. likes': 78}, {'rank': 152, 'twitterName': 'VP', 'type': 'male', 'posts': 6, 'followers': 11, 'avg. likes': 6}, {'rank': 153, 'twitterName': 'Riteishd', 'type': 'male', 'posts': 29, 'followers': 11, 'avg. likes': 29}, {'rank': 154, 'twitterName': 'rustyrockets', 'type': 'male', 'posts': 17, 'followers': 11, 'avg. likes': 17}, {'rank': 155, 'twitterName': 'Starbucks', 'type': 'brand', 'posts': 266, 'followers': 11, 'avg. likes': 266}, {'rank': 156, 'twitterName': 'HHShkMohd', 'type': 'male', 'posts': 7, 'followers': 11, 'avg. likes': 7}, {'rank': 157, 'twitterName': 'SimonCowell', 'type': 'male', 'posts': 1, 'followers': 11, 'avg. likes': 1}, {'rank': 158, 'twitterName': 'ashwinravi99', 'type': 'male', 'posts': 6, 'followers': 10, 'avg. likes': 6}, {'rank': 159, 'twitterName': 'Swamy39', 'type': 'male', 'posts': 111, 'followers': 10, 'avg. likes': 111}, {'rank': 160, 'twitterName': 'guardian', 'type': 'male', 'posts': 809, 'followers': 10, 'avg. likes': 809}, {'rank': 161, 'twitterName': 'yousuck2020', 'type': 'N/A', 'posts': 6, 'followers': 10, 'avg. likes': 1}, {'rank': 162, 'twitterName': 'SkySportsPL', 'type': 'male', 'posts': 207, 'followers': 10, 'avg. likes': 207}, {'rank': 163, 'twitterName': 'realmadridarab', 'type': 'male', 'posts': 47, 'followers': 10, 'avg. likes': 47}, {'rank': 164, 'twitterName': 'TXT_bighit', 'type': 'male', 'posts': 3, 'followers': 10, 'avg. likes': 3}, {'rank': 165, 'twitterName': 'lemondefr', 'type': 'male', 'posts': 432, 'followers': 10, 'avg. likes': 432}, {'rank': 166, 'twitterName': 'IvankaTrump', 'type': 'female', 'posts': 18, 'followers': 10, 'avg. likes': 18}, {'rank': 167, 'twitterName': 'GiGiHadid', 'type': 'male', 'posts': 16, 'followers': 10, 'avg. likes': 16}, {'rank': 168, 'twitterName': 'dhanushkraja', 'type': 'male', 'posts': 8, 'followers': 10, 'avg. likes': 1}, {'rank': 169, 'twitterName': 'NCTsmtown', 'type': 'male', 'posts': 7, 'followers': 10, 'avg. likes': 7}, {'rank': 170, 'twitterName': 'VP', 'type': 'male', 'posts': 9, 'followers': 10, 'avg. likes': 9}, {'rank': 171, 'twitterName': 'TimesNow', 'type': 'brand', 'posts': 0, 'followers': 10, 'avg. likes': 0}, {'rank': 172, 'twitterName': 'AppleMusic', 'type': 'brand', 'posts': 38, 'followers': 10, 'avg. likes': 38}, {'rank': 173, 'twitterName': 'TechCrunch', 'type': 'brand', 'posts': 250, 'followers': 10, 'avg. likes': 250}, {'rank': 174, 'twitterName': 'DUALIPA', 'type': 'female', 'posts': 1, 'followers': 10, 'avg. likes': 1}, {'rank': 175, 'twitterName': 'Fenerbahce', 'type': 'N/A', 'posts': 74, 'followers': 10, 'avg. likes': 73}, {'rank': 176, 'twitterName': 'SidMalhotra', 'type': 'male', 'posts': 4, 'followers': 10, 'avg. likes': 4}, {'rank': 177, 'twitterName': 'azizansari', 'type': 'male', 'posts': 7, 'followers': 10, 'avg. likes': 7}, {'rank': 178, 'twitterName': 'JoelOsteen', 'type': 'male', 'posts': 20, 'followers': 10, 'avg. likes': 20}, {'rank': 179, 'twitterName': 'BBCSport', 'type': 'male', 'posts': 539, 'followers': 10, 'avg. likes': 1}, {'rank': 180, 'twitterName': 'Twitch', 'type': 'community', 'posts': 23, 'followers': 9, 'avg. likes': 23}, {'rank': 181, 'twitterName': 'joejonas', 'type': 'male', 'posts': 11, 'followers': 9, 'avg. likes': 11}, {'rank': 182, 'twitterName': 'muftimenk', 'type': 'N/A', 'posts': 12, 'followers': 9, 'avg. likes': 12}, {'rank': 183, 'twitterName': 'davido', 'type': 'N/A', 'posts': 52, 'followers': 9, 'avg. likes': 1}, {'rank': 184, 'twitterName': 'Nike', 'type': 'brand', 'posts': 38, 'followers': 9, 'avg. likes': 38}, {'rank': 185, 'twitterName': 'DonaldJTrumpJr', 'type': 'male', 'posts': 45, 'followers': 9, 'avg. likes': 45}, {'rank': 186, 'twitterName': 'IGN', 'type': 'male', 'posts': 182, 'followers': 9, 'avg. likes': 182}, {'rank': 187, 'twitterName': 'Ubisoft', 'type': 'male', 'posts': 43, 'followers': 9, 'avg. likes': 43}, {'rank': 188, 'twitterName': 'lopezobrador_', 'type': 'N/A', 'posts': 6, 'followers': 9, 'avg. likes': 6}, {'rank': 189, 'twitterName': 'EASPORTSFIFA', 'type': 'female', 'posts': 271, 'followers': 9, 'avg. likes': 271}, {'rank': 190, 'twitterName': 'DaniAlvesD2', 'type': 'male', 'posts': 8, 'followers': 9, 'avg. likes': 8}, {'rank': 191, 'twitterName': 'KingSalman', 'type': 'N/A', 'posts': 344, 'followers': 9, 'avg. likes': 344}, {'rank': 192, 'twitterName': 'ChennaiIPL', 'type': 'community', 'posts': 44, 'followers': 9, 'avg. likes': 44}, {'rank': 193, 'twitterName': 'UNICEF', 'type': 'male', 'posts': 56, 'followers': 9, 'avg. likes': 56}, {'rank': 194, 'twitterName': 'MLB', 'type': 'male', 'posts': 201, 'followers': 9, 'avg. likes': 201}, {'rank': 195, 'twitterName': 'Discovery', 'type': 'male', 'posts': 54, 'followers': 9, 'avg. likes': 54}, {'rank': 196, 'twitterName': 'LouisVuitton', 'type': 'male', 'posts': 7, 'followers': 9, 'avg. likes': 1}, {'rank': 197, 'twitterName': 'DjokerNole', 'type': 'male', 'posts': 4, 'followers': 9, 'avg. likes': 4}, {'rank': 198, 'twitterName': 'INCIndia', 'type': 'brand', 'posts': 126, 'followers': 9, 'avg. likes': 126}, {'rank': 199, 'twitterName': 'Dior', 'type': 'brand', 'posts': 7, 'followers': 9, 'avg. likes': 7}, {'rank': 200, 'twitterName': 'Caradelevingne', 'type': 'female', 'posts': 7, 'followers': 9, 'avg. likes': 7}]\n"
     ]
    }
   ],
   "source": [
    "column_names = [\"rank\", \"twitterName\", \"type\", \"posts\", \"followers\", \"avg. likes\"]\n",
    "\n",
    "final_data = []\n",
    "for l in raw_data:\n",
    "    l = clean_string(l)    \n",
    "    entries = l.split(\",\")\n",
    "    entries = remove_category(entries)\n",
    "    entries = split_username(entries)\n",
    "    entries[0] = number_replacement(entries[0])\n",
    "    entries[3] = number_replacement(entries[3])\n",
    "    entries[4] = number_replacement(entries[4])\n",
    "    entries[5] = number_replacement(entries[5])\n",
    "    row = {} # empty dictionary for every row\n",
    "    row = dict(zip(column_names, entries)) #creating a dictionary using column names and processed data\n",
    "    final_data.append(row)\n",
    "print(final_data)\n",
    "#print(final_data[:5])\n",
    "\n"
   ]
  },
  {
   "cell_type": "markdown",
   "id": "5e6acfc7",
   "metadata": {},
   "source": [
    "- I would comment out **print(final_data)** and uncomment **print(final_data[:5])** if I only wanted to check the first 5 rows to check if the functions worked."
   ]
  },
  {
   "cell_type": "markdown",
   "id": "8bd1d83a",
   "metadata": {},
   "source": [
    "**Convert to DataFrame** using pandas"
   ]
  },
  {
   "cell_type": "code",
   "execution_count": 13,
   "id": "3d885eea",
   "metadata": {},
   "outputs": [
    {
     "data": {
      "text/html": [
       "<div>\n",
       "<style scoped>\n",
       "    .dataframe tbody tr th:only-of-type {\n",
       "        vertical-align: middle;\n",
       "    }\n",
       "\n",
       "    .dataframe tbody tr th {\n",
       "        vertical-align: top;\n",
       "    }\n",
       "\n",
       "    .dataframe thead th {\n",
       "        text-align: right;\n",
       "    }\n",
       "</style>\n",
       "<table border=\"1\" class=\"dataframe\">\n",
       "  <thead>\n",
       "    <tr style=\"text-align: right;\">\n",
       "      <th></th>\n",
       "      <th>rank</th>\n",
       "      <th>twitterName</th>\n",
       "      <th>type</th>\n",
       "      <th>posts</th>\n",
       "      <th>followers</th>\n",
       "      <th>avg. likes</th>\n",
       "    </tr>\n",
       "  </thead>\n",
       "  <tbody>\n",
       "    <tr>\n",
       "      <th>0</th>\n",
       "      <td>1</td>\n",
       "      <td>BarackObama</td>\n",
       "      <td>male</td>\n",
       "      <td>16</td>\n",
       "      <td>133</td>\n",
       "      <td>16</td>\n",
       "    </tr>\n",
       "    <tr>\n",
       "      <th>1</th>\n",
       "      <td>2</td>\n",
       "      <td>elonmusk</td>\n",
       "      <td>male</td>\n",
       "      <td>23</td>\n",
       "      <td>129</td>\n",
       "      <td>23</td>\n",
       "    </tr>\n",
       "    <tr>\n",
       "      <th>2</th>\n",
       "      <td>3</td>\n",
       "      <td>justinbieber</td>\n",
       "      <td>male</td>\n",
       "      <td>31</td>\n",
       "      <td>113</td>\n",
       "      <td>31</td>\n",
       "    </tr>\n",
       "    <tr>\n",
       "      <th>3</th>\n",
       "      <td>4</td>\n",
       "      <td>Cristiano</td>\n",
       "      <td>male</td>\n",
       "      <td>3</td>\n",
       "      <td>107</td>\n",
       "      <td>3</td>\n",
       "    </tr>\n",
       "    <tr>\n",
       "      <th>4</th>\n",
       "      <td>5</td>\n",
       "      <td>realDonaldTrump</td>\n",
       "      <td>male</td>\n",
       "      <td>59</td>\n",
       "      <td>87</td>\n",
       "      <td>59</td>\n",
       "    </tr>\n",
       "  </tbody>\n",
       "</table>\n",
       "</div>"
      ],
      "text/plain": [
       "  rank      twitterName  type  posts  followers  avg. likes\n",
       "0    1      BarackObama  male     16        133          16\n",
       "1    2         elonmusk  male     23        129          23\n",
       "2    3     justinbieber  male     31        113          31\n",
       "3    4        Cristiano  male      3        107           3\n",
       "4    5  realDonaldTrump  male     59         87          59"
      ]
     },
     "execution_count": 13,
     "metadata": {},
     "output_type": "execute_result"
    }
   ],
   "source": [
    "final_data = pd.DataFrame(final_data)\n",
    "\n",
    "final_data.head()"
   ]
  },
  {
   "cell_type": "markdown",
   "id": "edab7eaa",
   "metadata": {},
   "source": [
    "**Duplication Checks and Cleaning:**"
   ]
  },
  {
   "cell_type": "code",
   "execution_count": 14,
   "id": "ccf00762",
   "metadata": {},
   "outputs": [
    {
     "name": "stdout",
     "output_type": "stream",
     "text": [
      " Number of duplicates before : 0\n",
      " Number of duplicates after removing : 0\n"
     ]
    }
   ],
   "source": [
    "number_of_duplicates = final_data.duplicated().sum()\n",
    "print (f\" Number of duplicates before : {number_of_duplicates}\")\n",
    "\n",
    "# Delete duplicate rows\n",
    "final_data = final_data.drop_duplicates()\n",
    "\n",
    "number_of_duplicates = final_data.duplicated().sum()\n",
    "print (f\" Number of duplicates after removing : {number_of_duplicates}\")"
   ]
  },
  {
   "cell_type": "markdown",
   "id": "2a211a0d",
   "metadata": {},
   "source": [
    "#### Inspecting data and checking noisy entries:"
   ]
  },
  {
   "cell_type": "code",
   "execution_count": 18,
   "id": "77450cd0",
   "metadata": {},
   "outputs": [
    {
     "name": "stdout",
     "output_type": "stream",
     "text": [
      "<class 'pandas.core.frame.DataFrame'>\n",
      "Int64Index: 200 entries, 0 to 199\n",
      "Data columns (total 6 columns):\n",
      " #   Column       Non-Null Count  Dtype \n",
      "---  ------       --------------  ----- \n",
      " 0   rank         200 non-null    object\n",
      " 1   twitterName  200 non-null    object\n",
      " 2   type         200 non-null    object\n",
      " 3   posts        200 non-null    int64 \n",
      " 4   followers    200 non-null    int64 \n",
      " 5   avg. likes   200 non-null    int64 \n",
      "dtypes: int64(3), object(3)\n",
      "memory usage: 10.9+ KB\n",
      "<class 'pandas.core.frame.DataFrame'>\n",
      "Int64Index: 200 entries, 0 to 199\n",
      "Data columns (total 6 columns):\n",
      " #   Column       Non-Null Count  Dtype \n",
      "---  ------       --------------  ----- \n",
      " 0   rank         200 non-null    object\n",
      " 1   twitterName  200 non-null    object\n",
      " 2   type         200 non-null    object\n",
      " 3   posts        200 non-null    int64 \n",
      " 4   followers    200 non-null    int64 \n",
      " 5   avg. likes   200 non-null    int64 \n",
      "dtypes: int64(3), object(3)\n",
      "memory usage: 10.9+ KB\n"
     ]
    }
   ],
   "source": [
    "final_data.info()\n",
    "final_data = final_data.dropna()\n",
    "final_data.info()\n",
    "#There are no null entries, but I did it to make sure."
   ]
  },
  {
   "cell_type": "markdown",
   "id": "d4f4fb38",
   "metadata": {},
   "source": [
    "### Load:"
   ]
  },
  {
   "cell_type": "code",
   "execution_count": 20,
   "id": "fb3a9039",
   "metadata": {},
   "outputs": [],
   "source": [
    "final_data.to_csv(\"processed_data.csv\")"
   ]
  },
  {
   "cell_type": "markdown",
   "id": "36ea72b3",
   "metadata": {},
   "source": [
    "## Visualization & Analysis"
   ]
  },
  {
   "cell_type": "markdown",
   "id": "e9091a5b",
   "metadata": {},
   "source": [
    "**My analysis Q:** what were the biggest outliers between the average likes and followers, and why do you think they happened or what could've caused them?\n"
   ]
  },
  {
   "cell_type": "markdown",
   "id": "392b61a8",
   "metadata": {},
   "source": [
    "## Scatter plot of Twitter's Followers vs. Average Likes"
   ]
  },
  {
   "cell_type": "markdown",
   "id": "4cd19288",
   "metadata": {},
   "source": [
    "- I believe the outliers come from misinput of the data by the user who created the data on the website itself, as some of the data has 1 for the average likes, but either way the relationship of followers vs. avg. likes are not correlated together."
   ]
  },
  {
   "cell_type": "code",
   "execution_count": 21,
   "id": "ee8c027f",
   "metadata": {},
   "outputs": [
    {
     "data": {
      "text/plain": [
       "Text(0.5, 1.0, 'Twitter Followers vs. Average Likes.')"
      ]
     },
     "execution_count": 21,
     "metadata": {},
     "output_type": "execute_result"
    },
    {
     "data": {
      "image/png": "[encoded data removed]",
      "text/plain": [
       "<Figure size 640x480 with 1 Axes>"
      ]
     },
     "metadata": {},
     "output_type": "display_data"
    }
   ],
   "source": [
    "from IPython.core.interactiveshell import InteractiveShell\n",
    "InteractiveShell.ast_node_interactivity = \"all\"\n",
    "df = pd.DataFrame.from_dict(final_data)\n",
    "num_of_followers = df[\"followers\"]\n",
    "num_of_avg_likes = df[\"avg. likes\"]\n",
    "\n",
    "plt.scatter(num_of_followers,num_of_avg_likes, marker=\"*\")\n",
    "\n",
    "plt.xlabel(\"number of followers in millions\")\n",
    "plt.ylabel(\"number of average likes in thousands\")\n",
    "\n",
    "plt.title(\"Twitter Followers vs. Average Likes.\")\n"
   ]
  },
  {
   "cell_type": "code",
   "execution_count": null,
   "id": "4a19797c",
   "metadata": {},
   "outputs": [],
   "source": []
  },
  {
   "cell_type": "code",
   "execution_count": null,
   "id": "851430b5",
   "metadata": {},
   "outputs": [],
   "source": [
    "  "
   ]
  }
 ],
 "metadata": {
  "kernelspec": {
   "display_name": "Python 3 (ipykernel)",
   "language": "python",
   "name": "python3"
  },
  "language_info": {
   "codemirror_mode": {
    "name": "ipython",
    "version": 3
   },
   "file_extension": ".py",
   "mimetype": "text/x-python",
   "name": "python",
   "nbconvert_exporter": "python",
   "pygments_lexer": "ipython3",
   "version": "3.9.13"
  }
 },
 "nbformat": 4,
 "nbformat_minor": 5
}
